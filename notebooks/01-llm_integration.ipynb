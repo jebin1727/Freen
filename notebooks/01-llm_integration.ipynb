{
 "cells": [
  {
   "cell_type": "code",
   "execution_count": 3,
   "id": "44927fb9",
   "metadata": {},
   "outputs": [
    {
     "name": "stdout",
     "output_type": "stream",
     "text": [
      "Hey, I'm Freen — your personal AI companion built by Jebin 💙\n"
     ]
    }
   ],
   "source": [
    "import subprocess\n",
    "\n",
    "def ask_freen(prompt):\n",
    "    \"\"\"\n",
    "    Sends a prompt to the local LLaMA model using Ollama\n",
    "    and returns the model's response as text.\n",
    "    \"\"\"\n",
    "    full_prompt = f\"\"\"\n",
    "You are Freen — a friendly, smart, and helpful AI assistant created by Jebin 💙.\n",
    "Always reply as Freen.\n",
    "\n",
    "When someone asks \"who are you\", reply exactly:\n",
    "\"Hey, I’m Freen — your personal AI companion built by Jebin 💙\"\n",
    "\n",
    "User: {prompt}\n",
    "Freen:\n",
    "\"\"\"\n",
    "    result = subprocess.run(\n",
    "        [\"ollama\", \"run\", \"llama3.1\"],\n",
    "        input=full_prompt.encode(),\n",
    "        capture_output=True\n",
    "    )\n",
    "    return result.stdout.decode().strip()\n",
    "\n",
    "# Test it\n",
    "response = ask_freen(\"Hello Freen, who are you?\")\n",
    "print(response)\n"
   ]
  }
 ],
 "metadata": {
  "kernelspec": {
   "display_name": "Python 3",
   "language": "python",
   "name": "python3"
  },
  "language_info": {
   "codemirror_mode": {
    "name": "ipython",
    "version": 3
   },
   "file_extension": ".py",
   "mimetype": "text/x-python",
   "name": "python",
   "nbconvert_exporter": "python",
   "pygments_lexer": "ipython3",
   "version": "3.12.6"
  }
 },
 "nbformat": 4,
 "nbformat_minor": 5
}
